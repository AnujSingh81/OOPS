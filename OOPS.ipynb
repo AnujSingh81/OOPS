{
  "nbformat": 4,
  "nbformat_minor": 0,
  "metadata": {
    "colab": {
      "provenance": []
    },
    "kernelspec": {
      "name": "python3",
      "display_name": "Python 3"
    },
    "language_info": {
      "name": "python"
    }
  },
  "cells": [
    {
      "cell_type": "markdown",
      "source": [
        "## 1.What is Object-Oriented Programming (OOP)?\n",
        "  -> Object-Oriented Programming (OOP) is a programming approach based on using objects, which combine data and functions. It promotes code reusability, modularity, and abstraction through key principles like encapsulation, inheritance, polymorphism, and abstraction. OOP helps model real-world scenarios, making software development more structured, scalable, and easier to maintain.\n",
        "\n",
        "\n",
        "\n",
        "\n",
        "\n",
        "\n",
        "\n"
      ],
      "metadata": {
        "id": "SiXJpTNq-iXh"
      }
    },
    {
      "cell_type": "markdown",
      "source": [
        "## 2.What is a class in OOP ?\n",
        "  ->A class in Object-Oriented Programming (OOP) is a blueprint for creating objects. It defines the properties (attributes) and behaviors (methods) that the objects created from it will have. Classes help organize code, promote reusability, and model real-world entities in a structured and modular way"
      ],
      "metadata": {
        "id": "3s3M5r4a_VjM"
      }
    },
    {
      "cell_type": "markdown",
      "source": [
        "## 3.What is an object in OOP?\n",
        "  ->An object in Object-Oriented Programming (OOP) is an instance of a class. It represents a real-world entity with specific data (attributes) and behaviors (methods). Objects are created from classes and can interact with one another. They enable modular, reusable, and organized code by encapsulating state and functionality together."
      ],
      "metadata": {
        "id": "LxiS3bOb_7uU"
      }
    },
    {
      "cell_type": "markdown",
      "source": [
        "## 4.What is the difference between abstraction and encapsulation?\n",
        "  ->Abstraction hides complex implementation details and shows only essential features to the user, focusing on what an object does. Encapsulation binds data and methods together, restricting direct access to internal data, focusing on how it's done. Both enhance code security, clarity, and maintainability in object-oriented programming."
      ],
      "metadata": {
        "id": "GgpFISa_AZhz"
      }
    },
    {
      "cell_type": "markdown",
      "source": [
        "##5.What are dunder methods in Python?\n",
        "  ->Dunder methods in Python, short for “double underscore” methods (like __init__, __str__), are special predefined methods that let you define how objects behave with built-in operations. They enable operator overloading, object representation, and more. These methods start and end with double underscores and are used internally by Python."
      ],
      "metadata": {
        "id": "rQH2d7M4A6HV"
      }
    },
    {
      "cell_type": "markdown",
      "source": [
        "#6.Explain the concept of inheritance in OOP ?\n",
        "  ->Inheritance in OOP allows a class (child) to acquire properties and methods from another class (parent), promoting code reuse and hierarchical relationships. The child class can extend or override parent features, enabling flexible and organized code. It simplifies maintenance by avoiding redundancy and supporting modular program design."
      ],
      "metadata": {
        "id": "w7OT0QF4BTsl"
      }
    },
    {
      "cell_type": "markdown",
      "source": [
        "## 7.What is polymorphism in OOP?\n",
        "  ->Polymorphism in OOP allows objects of different classes to be treated as instances of a common superclass. It enables the same method name to behave differently based on the object calling it. This promotes flexibility, code reuse, and easier maintenance by allowing one interface to handle various data types or classes."
      ],
      "metadata": {
        "id": "3W-OOd0LBrpj"
      }
    },
    {
      "cell_type": "markdown",
      "source": [
        "## 8.How is encapsulation achieved in Python?\n",
        "  ->Encapsulation in Python is achieved by defining class attributes as private or protected using underscores (_ or __). Access to these variables is controlled through public methods like getters and setters. This hides internal data, restricts unauthorized access, and ensures controlled modification, promoting security and code maintainability."
      ],
      "metadata": {
        "id": "Evee-dSQCHhM"
      }
    },
    {
      "cell_type": "markdown",
      "source": [
        "##9.What is a constructor in Python ?\n",
        "  ->A constructor in Python is a special method called __init__() that is automatically invoked when an object is created from a class. It initializes the object’s attributes with given values. Constructors help set up the initial state of an object, making object creation more flexible and organized."
      ],
      "metadata": {
        "id": "7Aj4--ANCan9"
      }
    },
    {
      "cell_type": "markdown",
      "source": [
        "## 10.What are class and static methods in Python?\n",
        "  ->Class methods in Python use the @classmethod decorator and take cls as the first parameter, allowing access to the class itself. Static methods use the @staticmethod decorator and don’t take self or cls; they behave like regular functions within a class, used when no object or class data is needed."
      ],
      "metadata": {
        "id": "-Uv9c2ozC2qO"
      }
    },
    {
      "cell_type": "markdown",
      "source": [
        "## 11. What is method overloading in Python+?\n",
        "  ->Method overloading in Python refers to defining multiple methods with the same name but different parameters. However, Python doesn’t support true method overloading like some other languages. Instead, it uses default arguments or variable-length arguments (*args, **kwargs) to achieve similar functionality within a single method definition"
      ],
      "metadata": {
        "id": "HZYEtjjpDVPS"
      }
    },
    {
      "cell_type": "markdown",
      "source": [
        "## 12. What is method overriding in OOP?\n",
        "  ->Method overriding in OOP allows a subclass to provide a specific implementation of a method already defined in its superclass. The overridden method in the child class replaces the parent’s version when called on a subclass object. It enables polymorphism and customization of inherited behavior for more flexible code."
      ],
      "metadata": {
        "id": "_j0R9B2mDr6o"
      }
    },
    {
      "cell_type": "markdown",
      "source": [
        "## 13.What is a property decorator in Python ?\n",
        "  ->The property decorator in Python is used to define a method as a read-only attribute, allowing access like an attribute while using method logic. It enables encapsulation by controlling access to private variables. It can be combined with @setter and @deleter to manage setting and deleting values safely."
      ],
      "metadata": {
        "id": "wICKaK5cEAIU"
      }
    },
    {
      "cell_type": "markdown",
      "source": [
        "## 14.Why is polymorphism important in OOP?\n",
        "  -> Polymorphism is important in OOP because it allows different classes to be treated through a common interface, enabling code flexibility and reusability. It simplifies code maintenance by allowing objects to behave differently based on context, supports dynamic method binding, and enhances scalability in large, modular, and extendable software systems."
      ],
      "metadata": {
        "id": "rEMLtyv8EcqY"
      }
    },
    {
      "cell_type": "markdown",
      "source": [
        "## 15. What is an abstract class in Python?\n",
        "  ->An abstract class in Python is a class that cannot be instantiated directly and serves as a blueprint for other classes. Defined using the abc module and @abstractmethod decorator, it can contain abstract methods that must be implemented by subclasses, ensuring consistent structure and promoting code organization and reuse."
      ],
      "metadata": {
        "id": "pFfIdO1wE4iK"
      }
    },
    {
      "cell_type": "markdown",
      "source": [
        "## 16.What are the advantages of OOP ?\n",
        "  ->Object-Oriented Programming (OOP) offers advantages like modularity, code reusability through inheritance, and improved code organization. It promotes data security via encapsulation, simplifies complex problems using abstraction, and enhances flexibility with polymorphism. OOP makes code easier to maintain, debug, and scale, making it ideal for large, real-world software projects.\n"
      ],
      "metadata": {
        "id": "KuR3xGkSFK1n"
      }
    },
    {
      "cell_type": "markdown",
      "source": [
        "## 17.What is the difference between a class variable and an instance variable?\n",
        "  ->A class variable is shared across all instances of a class and is defined within the class but outside any methods. An instance variable is unique to each object and defined within methods using self. Changes to class variables affect all instances, while instance variables affect only that specific object."
      ],
      "metadata": {
        "id": "l_xNJVlLFfid"
      }
    },
    {
      "cell_type": "markdown",
      "source": [
        "## 18.What is multiple inheritance in Python?\n",
        "  ->Multiple inheritance in Python allows a class to inherit from more than one parent class, combining their features. This enables a child class to access attributes and methods from multiple sources. Python handles method resolution using the Method Resolution Order (MRO) to avoid conflicts and determine the correct method to call."
      ],
      "metadata": {
        "id": "ryIRt774F8lX"
      }
    },
    {
      "cell_type": "markdown",
      "source": [
        "## 19.Explain the purpose of ‘’__str__’ and ‘__repr__’ ‘ methods in Python?\n",
        "  ->The __str__ and __repr__ methods in Python are special (dunder) methods used to define how objects are represented as strings.\n",
        "\n",
        "__str__ is meant to return a user-friendly string representation of an object, useful for printing and displaying to end users.\n",
        "\n",
        "__repr__ is intended to return a developer-friendly string that ideally can recreate the object if passed to eval().\n",
        "\n",
        "When print() is called on an object, Python uses __str__() if available, otherwise it falls back to __repr__().\n",
        "\n",
        "Defining both helps in debugging and improves readability and clarity when working with custom classes."
      ],
      "metadata": {
        "id": "jY_wvi7sGcm0"
      }
    },
    {
      "cell_type": "markdown",
      "source": [
        "## 20.What is the significance of the ‘super()’ function in Python?\n",
        "  ->The super() function in Python is used to call methods from a parent or superclass within a subclass. It allows you to access and reuse the parent class’s methods without directly naming it, making code more maintainable and easier to update.\n",
        "\n",
        "It's especially useful in inheritance, where a subclass needs to extend or customize the behavior of a parent method without completely rewriting it. In multiple inheritance, super() also helps follow the Method Resolution Order (MRO), ensuring the correct method is called.\n",
        "\n",
        "Overall, super() supports cleaner, more modular, and DRY (Don't Repeat Yourself) code."
      ],
      "metadata": {
        "id": "x7WMUnOrG7yQ"
      }
    },
    {
      "cell_type": "markdown",
      "source": [
        "## 21.What is the significance of the __del__ method in Python?\n",
        "  ->The __del__ method in Python is a special method called when an object is about to be destroyed (garbage collected). It acts as a destructor, allowing cleanup actions like closing files or releasing resources. However, relying on it is discouraged due to unpredictable timing of garbage collection in Python."
      ],
      "metadata": {
        "id": "xbtbDsOSHnT9"
      }
    },
    {
      "cell_type": "markdown",
      "source": [
        "## 22.What is the difference between @staticmethod and @classmethod in Python?\n",
        "  ->In Python, @staticmethod and @classmethod are decorators used to define methods that don't behave like regular instance methods.\n",
        "\n",
        "@staticmethod defines a method that does not take self or cls as a parameter. It behaves like a regular function but belongs to the class’s namespace. It cannot access or modify class or instance data.\n",
        "\n",
        "@classmethod takes cls as its first parameter, referring to the class itself, not an instance. It can access and modify class-level data and is often used for alternative constructors.\n",
        "\n",
        "Both enhance code organization, but classmethod maintains a connection to the class, while staticmethod does not."
      ],
      "metadata": {
        "id": "rFL5XH8oIOC5"
      }
    },
    {
      "cell_type": "markdown",
      "source": [
        "## 23.How does polymorphism work in Python with inheritance ?\n",
        "  ->In Python, polymorphism with inheritance allows a child class to override methods of its parent class. When a method is called on an object, Python determines which version to execute based on the object’s class. This enables different behaviors using a common interface, enhancing code flexibility and reusability."
      ],
      "metadata": {
        "id": "IWsnUfWEIllP"
      }
    },
    {
      "cell_type": "markdown",
      "source": [
        "## 24.What is method chaining in Python OOP?\n",
        "  ->Method chaining in Python OOP is a technique where multiple methods are called on the same object in a single line. Each method returns self, allowing the next method to be called immediately. It improves code readability and conciseness, often used in builder patterns or fluent interfaces."
      ],
      "metadata": {
        "id": "AK62H-4dI5xS"
      }
    },
    {
      "cell_type": "markdown",
      "source": [
        "## 25.What is the purpose of the __call__ method in Python?\n",
        "  ->The __call__ method in Python allows an object to be called like a function. By defining __call__, you can use the object with parentheses, passing arguments as if it were a regular function. It enables objects to have dynamic behavior and is useful in decorators, callbacks, and wrappers."
      ],
      "metadata": {
        "id": "-QtDYuZUJN_j"
      }
    },
    {
      "cell_type": "markdown",
      "source": [],
      "metadata": {
        "id": "H-xXLSHEJdij"
      }
    },
    {
      "cell_type": "code",
      "execution_count": 1,
      "metadata": {
        "id": "G6nwlNFn-eLn",
        "colab": {
          "base_uri": "https://localhost:8080/"
        },
        "outputId": "49fcd959-f5bc-4c6e-e25e-a9457ac15b32"
      },
      "outputs": [
        {
          "output_type": "stream",
          "name": "stdout",
          "text": [
            "Bark\n"
          ]
        }
      ],
      "source": [
        "# 1.Create a parent class Animal with a method speak() that prints a generic message. Create a child class Dog that overrides the speak() method to print \"Bark!\".\n",
        "\n",
        "class Animal:\n",
        "  def speak(self):\n",
        "    print(\"This is a animal\")\n",
        "\n",
        "class Dog(Animal):\n",
        "  def speak(self):\n",
        "    print(\"Bark\")\n",
        "\n",
        "dog = Dog()\n",
        "dog.speak"
      ]
    },
    {
      "cell_type": "code",
      "source": [
        "# 2.Write a program to create an abstract class Shape with a method area(). Derive classes Circle and Rectangle from it and implement the area() method in both.\n",
        "\n",
        "from abc import ABC, abstractmethod\n",
        "import math\n",
        "\n",
        "# Abstract base class\n",
        "class Shape(ABC):\n",
        "\n",
        "    @abstractmethod\n",
        "    def area(self):\n",
        "        pass\n",
        "\n",
        "# Derived class for Circle\n",
        "class Circle(Shape):\n",
        "    def __init__(self, radius):\n",
        "        self.radius = radius\n",
        "\n",
        "    def area(self):\n",
        "        return math.pi * self.radius ** 2\n",
        "\n",
        "# Derived class for Rectangle\n",
        "class Rectangle(Shape):\n",
        "    def __init__(self, length, width):\n",
        "        self.length = length\n",
        "        self.width = width\n",
        "\n",
        "    def area(self):\n",
        "        return self.length * self.width\n",
        "\n",
        "# Example usage\n",
        "circle = Circle(5)\n",
        "rectangle = Rectangle(4, 6)\n",
        "\n",
        "print(f\"Area of Circle: {circle.area():.2f}\")\n",
        "print(f\"Area of Rectangle: {rectangle.area()}\")\n"
      ],
      "metadata": {
        "colab": {
          "base_uri": "https://localhost:8080/"
        },
        "id": "m24IYwIOmWHw",
        "outputId": "9fe8d36d-da5e-4bda-96fa-6a26aa19edbb"
      },
      "execution_count": 2,
      "outputs": [
        {
          "output_type": "stream",
          "name": "stdout",
          "text": [
            "Area of Circle: 78.54\n",
            "Area of Rectangle: 24\n"
          ]
        }
      ]
    },
    {
      "cell_type": "code",
      "source": [
        "# 3. Implement a multi-level inheritance scenario where a class Vehicle has an attribute type. Derive a class Car and further derive a class ElectricCar that adds a battery attribute\n",
        "# Base class\n",
        "class Vehicle:\n",
        "    def __init__(self, vehicle_type):\n",
        "        self.vehicle_type = vehicle_type\n",
        "\n",
        "    def display_type(self):\n",
        "        print(f\"Vehicle Type: {self.vehicle_type}\")\n",
        "\n",
        "# First derived class\n",
        "class Car(Vehicle):\n",
        "    def __init__(self, vehicle_type, brand):\n",
        "        super().__init__(vehicle_type)\n",
        "        self.brand = brand\n",
        "\n",
        "    def display_brand(self):\n",
        "        print(f\"Car Brand: {self.brand}\")\n",
        "\n",
        "# Second derived class (multi-level inheritance)\n",
        "class ElectricCar(Car):\n",
        "    def __init__(self, vehicle_type, brand, battery_capacity):\n",
        "        super().__init__(vehicle_type, brand)\n",
        "        self.battery_capacity = battery_capacity\n",
        "\n",
        "    def display_info(self):\n",
        "        self.display_type()\n",
        "        self.display_brand()\n",
        "        print(f\"Battery Capacity: {self.battery_capacity} kWh\")\n",
        "\n",
        "# Example usage\n",
        "my_electric_car = ElectricCar(\"Four-Wheeler\", \"Tata\", 75)\n",
        "my_electric_car.display_info()\n"
      ],
      "metadata": {
        "colab": {
          "base_uri": "https://localhost:8080/"
        },
        "id": "4Fcc0Q1HnZQV",
        "outputId": "de1ada62-81cd-4d7d-9909-f698536d1806"
      },
      "execution_count": 4,
      "outputs": [
        {
          "output_type": "stream",
          "name": "stdout",
          "text": [
            "Vehicle Type: Four-Wheeler\n",
            "Car Brand: Tata\n",
            "Battery Capacity: 75 kWh\n"
          ]
        }
      ]
    },
    {
      "cell_type": "code",
      "source": [
        "# 4.Demonstrate polymorphism by creating a base class Bird with a method fly(). Create two derived classes Sparrow and Penguin that override the fly() method.\n",
        "# Base class\n",
        "class Bird:\n",
        "    def fly(self):\n",
        "        print(\"This bird can fly\")\n",
        "\n",
        "# Derived class 1\n",
        "class Sparrow(Bird):\n",
        "    def fly(self):\n",
        "        print(\"Sparrow is flying high in the sky\")\n",
        "\n",
        "# Derived class 2\n",
        "class Penguin(Bird):\n",
        "    def fly(self):\n",
        "        print(\"Penguins can't fly, they waddle and swim\")\n",
        "\n",
        "# Function to demonstrate polymorphism\n",
        "def bird_flight(bird):\n",
        "    bird.fly()\n",
        "\n",
        "# Create objects of derived classes\n",
        "sparrow = Sparrow()\n",
        "penguin = Penguin()\n",
        "\n",
        "# Call the function with different bird objects\n",
        "bird_flight(sparrow)   # Output: Sparrow is flying high in the sky\n",
        "bird_flight(penguin)   # Output: Penguins can't fly, they waddle and swim\n"
      ],
      "metadata": {
        "colab": {
          "base_uri": "https://localhost:8080/"
        },
        "id": "T7xRbapRn1wg",
        "outputId": "59d1d2bc-d7db-4ba2-f567-e85358041771"
      },
      "execution_count": 5,
      "outputs": [
        {
          "output_type": "stream",
          "name": "stdout",
          "text": [
            "Sparrow is flying high in the sky\n",
            "Penguins can't fly, they waddle and swim\n"
          ]
        }
      ]
    },
    {
      "cell_type": "code",
      "source": [
        "#5. Write a program to demonstrate encapsulation by creating a class BankAccount with private attributes balance and methods to deposit, withdraw, and check balance.\n",
        "class BankAccount:\n",
        "    def __init__(self, initial_balance=0):\n",
        "        self.__balance = initial_balance  # Private attribute\n",
        "\n",
        "    # Method to deposit money\n",
        "    def deposit(self, amount):\n",
        "        if amount > 0:\n",
        "            self.__balance += amount\n",
        "            print(f\"Deposited ₹{amount}\")\n",
        "        else:\n",
        "            print(\"Deposit amount must be positive.\")\n",
        "\n",
        "    # Method to withdraw money\n",
        "    def withdraw(self, amount):\n",
        "        if amount <= self.__balance:\n",
        "            self.__balance -= amount\n",
        "            print(f\"Withdrew ₹{amount}\")\n",
        "        else:\n",
        "            print(\"Insufficient balance.\")\n",
        "\n",
        "    # Method to check balance\n",
        "    def check_balance(self):\n",
        "        print(f\"Current balance: ₹{self.__balance}\")\n",
        "\n",
        "# Demonstration\n",
        "account = BankAccount(1000)  # Creating account with ₹1000 initial balance\n",
        "\n",
        "account.deposit(500)\n",
        "account.withdraw(300)\n",
        "account.check_balance()\n",
        "\n",
        "\n"
      ],
      "metadata": {
        "colab": {
          "base_uri": "https://localhost:8080/"
        },
        "id": "Qz9xHdcppPlv",
        "outputId": "a65ca8be-436c-45e5-b25b-8802105ec14a"
      },
      "execution_count": 6,
      "outputs": [
        {
          "output_type": "stream",
          "name": "stdout",
          "text": [
            "Deposited ₹500\n",
            "Withdrew ₹300\n",
            "Current balance: ₹1200\n"
          ]
        }
      ]
    },
    {
      "cell_type": "code",
      "source": [
        "#6. Demonstrate runtime polymorphism using a method play() in a base class Instrument. Derive classes Guitar and Piano that implement their own version of play().\n",
        "# Base class\n",
        "class Instrument:\n",
        "    def play(self):\n",
        "        print(\"Playing an instrument\")\n",
        "\n",
        "# Derived class 1\n",
        "class Guitar(Instrument):\n",
        "    def play(self):\n",
        "        print(\"Strumming the guitar 🎸\")\n",
        "\n",
        "# Derived class 2\n",
        "class Piano(Instrument):\n",
        "    def play(self):\n",
        "        print(\"Playing the piano 🎹\")\n",
        "\n",
        "\n",
        "def start_playing(instrument):\n",
        "    instrument.play()\n",
        "\n",
        "\n",
        "guitar = Guitar()\n",
        "piano = Piano()\n",
        "\n",
        "\n",
        "start_playing(guitar)\n",
        "start_playing(piano)\n"
      ],
      "metadata": {
        "colab": {
          "base_uri": "https://localhost:8080/"
        },
        "id": "us7RtSjbpm7i",
        "outputId": "86313935-e36e-4335-c648-7041bf819761"
      },
      "execution_count": 7,
      "outputs": [
        {
          "output_type": "stream",
          "name": "stdout",
          "text": [
            "Strumming the guitar 🎸\n",
            "Playing the piano 🎹\n"
          ]
        }
      ]
    },
    {
      "cell_type": "code",
      "source": [
        "#7.Create a class MathOperations with a class method add_numbers() to add two numbers and a static method subtract_numbers() to subtract two numbers\n",
        "class MathOperations:\n",
        "    # Class method to add two numbers\n",
        "    @classmethod\n",
        "    def add_numbers(cls, a, b):\n",
        "        return a + b\n",
        "\n",
        "    # Static method to subtract two numbers\n",
        "    @staticmethod\n",
        "    def subtract_numbers(a, b):\n",
        "        return a - b\n",
        "\n",
        "# Using the class method\n",
        "sum_result = MathOperations.add_numbers(10, 5)\n",
        "print(f\"Sum: {sum_result}\")\n",
        "\n",
        "# Using the static method\n",
        "difference_result = MathOperations.subtract_numbers(10, 5)\n",
        "print(f\"Difference: {difference_result}\")\n"
      ],
      "metadata": {
        "colab": {
          "base_uri": "https://localhost:8080/"
        },
        "id": "Wcx_4Q5rqBI1",
        "outputId": "f4e3c571-d701-4abd-9a01-a7c63af95920"
      },
      "execution_count": 8,
      "outputs": [
        {
          "output_type": "stream",
          "name": "stdout",
          "text": [
            "Sum: 15\n",
            "Difference: 5\n"
          ]
        }
      ]
    },
    {
      "cell_type": "code",
      "source": [
        "#8. Implement a class Person with a class method to count the total number of persons created.\n",
        "class Person:\n",
        "    # Class variable to count persons\n",
        "    person_count = 0\n",
        "\n",
        "    def __init__(self, name):\n",
        "        self.name = name\n",
        "        Person.person_count += 1  # Increment count when a new object is created\n",
        "\n",
        "    # Class method to get the total number of persons created\n",
        "    @classmethod\n",
        "    def get_person_count(cls):\n",
        "        return cls.person_count\n",
        "\n",
        "# Creating Person objects\n",
        "p1 = Person(\"Anuj\")\n",
        "p2 = Person(\"Amit\")\n",
        "p3 = Person(\"Dhruv\")\n",
        "\n",
        "# Getting total number of persons\n",
        "print(f\"Total persons created: {Person.get_person_count()}\")\n"
      ],
      "metadata": {
        "colab": {
          "base_uri": "https://localhost:8080/"
        },
        "id": "BApNmncdqX6M",
        "outputId": "eadfd125-a096-4fa7-a751-5cf6f0db63e1"
      },
      "execution_count": 10,
      "outputs": [
        {
          "output_type": "stream",
          "name": "stdout",
          "text": [
            "Total persons created: 3\n"
          ]
        }
      ]
    },
    {
      "cell_type": "code",
      "source": [
        "#9. Write a class Fraction with attributes numerator and denominator. Override the str method to display the fraction as \"numerator/denominator\".\n",
        "class Fraction:\n",
        "    def __init__(self, numerator, denominator):\n",
        "        self.numerator = numerator\n",
        "        self.denominator = denominator\n",
        "\n",
        "    # Overriding the __str__ method to display the fraction\n",
        "    def __str__(self):\n",
        "        return f\"{self.numerator}/{self.denominator}\"\n",
        "\n",
        "# Example usage\n",
        "f1 = Fraction(3, 4)\n",
        "f2 = Fraction(5, 8)\n",
        "\n",
        "print(f\"Fraction 1: {f1}\")\n",
        "print(f\"Fraction 2: {f2}\")\n"
      ],
      "metadata": {
        "colab": {
          "base_uri": "https://localhost:8080/"
        },
        "id": "3Y66pHicqw53",
        "outputId": "1e576115-f8ef-437f-fea2-c913cf88c8d5"
      },
      "execution_count": 11,
      "outputs": [
        {
          "output_type": "stream",
          "name": "stdout",
          "text": [
            "Fraction 1: 3/4\n",
            "Fraction 2: 5/8\n"
          ]
        }
      ]
    },
    {
      "cell_type": "code",
      "source": [
        "#10.Demonstrate operator overloading by creating a class Vector and overriding the add method to add two vectors.\n",
        "class Vector:\n",
        "    def __init__(self, x, y):\n",
        "        self.x = x\n",
        "        self.y = y\n",
        "\n",
        "    # Overloading the + operator\n",
        "    def __add__(self, other):\n",
        "        return Vector(self.x + other.x, self.y + other.y)\n",
        "\n",
        "    # Overriding str method to display vector nicely\n",
        "    def __str__(self):\n",
        "        return f\"Vector({self.x}, {self.y})\"\n",
        "\n",
        "# Example usage\n",
        "v1 = Vector(2, 3)\n",
        "v2 = Vector(4, 1)\n",
        "v3 = v1 + v2\n",
        "\n",
        "print(f\"v1: {v1}\")\n",
        "print(f\"v2: {v2}\")\n",
        "print(f\"v1 + v2 = {v3}\")\n"
      ],
      "metadata": {
        "colab": {
          "base_uri": "https://localhost:8080/"
        },
        "id": "nXDBqkRarIol",
        "outputId": "462cfb10-13e9-4ac8-85be-e11f15a3a112"
      },
      "execution_count": 12,
      "outputs": [
        {
          "output_type": "stream",
          "name": "stdout",
          "text": [
            "v1: Vector(2, 3)\n",
            "v2: Vector(4, 1)\n",
            "v1 + v2 = Vector(6, 4)\n"
          ]
        }
      ]
    },
    {
      "cell_type": "code",
      "source": [
        "#11.Create a class Person with attributes name and age. Add a method greet() that prints \"Hello, my name is {name} and I am {age} years old.\n",
        "class Person:\n",
        "    def __init__(self, name, age):\n",
        "        self.name = name\n",
        "        self.age = age\n",
        "\n",
        "    # Method to greet\n",
        "    def greet(self):\n",
        "        print(f\"Hello, my name is {self.name} and I am {self.age} years old.\")\n",
        "\n",
        "# Example usage\n",
        "p1 = Person(\"Anuj\", 25)\n",
        "p1.greet()\n"
      ],
      "metadata": {
        "colab": {
          "base_uri": "https://localhost:8080/"
        },
        "id": "CmM-adjhrqei",
        "outputId": "e25c35d2-9d36-42f0-ef9a-6902d87fff96"
      },
      "execution_count": 13,
      "outputs": [
        {
          "output_type": "stream",
          "name": "stdout",
          "text": [
            "Hello, my name is Anuj and I am 25 years old.\n"
          ]
        }
      ]
    },
    {
      "cell_type": "code",
      "source": [
        "#12.  Implement a class Student with attributes name and grades. Create a method average_grade() to compute the average of the grades\n",
        "class Student:\n",
        "    def __init__(self, name, grades):\n",
        "        self.name = name\n",
        "        self.grades = grades  # List of grades\n",
        "\n",
        "    # Method to calculate average grade\n",
        "    def average_grade(self):\n",
        "        if len(self.grades) == 0:\n",
        "            return 0\n",
        "        return sum(self.grades) / len(self.grades)\n",
        "\n",
        "\n",
        "student1 = Student(\"Anuj\", [85, 90, 78, 92])\n",
        "print(f\"{student1.name}'s average grade: {student1.average_grade():.2f}\")\n"
      ],
      "metadata": {
        "colab": {
          "base_uri": "https://localhost:8080/"
        },
        "id": "qNF5qo8sr30Z",
        "outputId": "0c224139-46db-4d1e-9e3c-2d12748c0711"
      },
      "execution_count": 15,
      "outputs": [
        {
          "output_type": "stream",
          "name": "stdout",
          "text": [
            "Anuj's average grade: 86.25\n"
          ]
        }
      ]
    },
    {
      "cell_type": "code",
      "source": [
        "#13.Create a class Rectangle with methods set_dimensions() to set the dimensions and area() to calculate the area\n",
        "class Rectangle:\n",
        "    def __init__(self):\n",
        "        self.length = 0\n",
        "        self.width = 0\n",
        "\n",
        "    # Method to set dimensions of the rectangle\n",
        "    def set_dimensions(self, length, width):\n",
        "        self.length = length\n",
        "        self.width = width\n",
        "\n",
        "    # Method to calculate area\n",
        "    def area(self):\n",
        "        return self.length * self.width\n",
        "\n",
        "\n",
        "rect = Rectangle()\n",
        "rect.set_dimensions(5, 3)\n",
        "print(f\"Area of rectangle: {rect.area()}\")\n"
      ],
      "metadata": {
        "colab": {
          "base_uri": "https://localhost:8080/"
        },
        "id": "1tbWPoiusGAk",
        "outputId": "6512d6b8-e1d6-482c-bf6f-398a04ca5e4f"
      },
      "execution_count": 16,
      "outputs": [
        {
          "output_type": "stream",
          "name": "stdout",
          "text": [
            "Area of rectangle: 15\n"
          ]
        }
      ]
    },
    {
      "cell_type": "code",
      "source": [
        "#14.Create a class Employee with a method calculate_salary() that computes the salary based on hours worked and hourly rate. Create a derived class Manager that adds a bonus to the salary.\n",
        "# Base class\n",
        "class Employee:\n",
        "    def __init__(self, name, hours_worked, hourly_rate):\n",
        "        self.name = name\n",
        "        self.hours_worked = hours_worked\n",
        "        self.hourly_rate = hourly_rate\n",
        "\n",
        "    # Method to calculate salary\n",
        "    def calculate_salary(self):\n",
        "        return self.hours_worked * self.hourly_rate\n",
        "\n",
        "# Derived class\n",
        "class Manager(Employee):\n",
        "    def __init__(self, name, hours_worked, hourly_rate, bonus):\n",
        "        super().__init__(name, hours_worked, hourly_rate)\n",
        "        self.bonus = bonus\n",
        "\n",
        "    # Overriding method to include bonus\n",
        "    def calculate_salary(self):\n",
        "        base_salary = super().calculate_salary()\n",
        "        return base_salary + self.bonus\n",
        "\n",
        "# Example usage\n",
        "emp = Employee(\"Anuj\", 40, 25)\n",
        "mgr = Manager(\"Amit\", 40, 30, 500)\n",
        "\n",
        "print(f\"{emp.name}'s Salary: ₹{emp.calculate_salary()}\")\n",
        "print(f\"{mgr.name}'s Salary: ₹{mgr.calculate_salary()}\")\n",
        "\n"
      ],
      "metadata": {
        "colab": {
          "base_uri": "https://localhost:8080/"
        },
        "id": "M94-aQeTsUwc",
        "outputId": "2b520a69-7a90-4d3f-ffdc-28bfecd1402d"
      },
      "execution_count": 18,
      "outputs": [
        {
          "output_type": "stream",
          "name": "stdout",
          "text": [
            "Anuj's Salary: ₹1000\n",
            "Amit's Salary: ₹1700\n"
          ]
        }
      ]
    },
    {
      "cell_type": "code",
      "source": [
        "# 15.Create a class Product with attributes name, price, and quantity. Implement a method total_price() that calculates the total price of the product.\n",
        "class Product:\n",
        "    def __init__(self, name, price, quantity):\n",
        "        self.name = name\n",
        "        self.price = price\n",
        "        self.quantity = quantity\n",
        "\n",
        "    # Method to calculate total price\n",
        "    def total_price(self):\n",
        "        return self.price * self.quantity\n",
        "\n",
        "# Example usage\n",
        "product1 = Product(\"Laptop\", 50000, 2)\n",
        "print(f\"Product: {product1.name}\")\n",
        "print(f\"Total Price: ₹{product1.total_price()}\")\n"
      ],
      "metadata": {
        "colab": {
          "base_uri": "https://localhost:8080/"
        },
        "id": "cmZ2cvQ_slF7",
        "outputId": "81165368-5400-4e48-fadb-564c96c6ae2b"
      },
      "execution_count": 19,
      "outputs": [
        {
          "output_type": "stream",
          "name": "stdout",
          "text": [
            "Product: Laptop\n",
            "Total Price: ₹100000\n"
          ]
        }
      ]
    },
    {
      "cell_type": "code",
      "source": [
        "# 16. Create a class Animal with an abstract method sound(). Create two derived classes Cow and Sheep that implement the sound() method\n",
        "from abc import ABC, abstractmethod\n",
        "\n",
        "# Abstract base class\n",
        "class Animal(ABC):\n",
        "    @abstractmethod\n",
        "    def sound(self):\n",
        "        pass\n",
        "\n",
        "# Derived class 1\n",
        "class Cow(Animal):\n",
        "    def sound(self):\n",
        "        return \"Moo\"\n",
        "\n",
        "# Derived class 2\n",
        "class Sheep(Animal):\n",
        "    def sound(self):\n",
        "        return \"Baa\"\n",
        "\n",
        "# Example usage\n",
        "cow = Cow()\n",
        "sheep = Sheep()\n",
        "\n",
        "print(f\"Cow says: {cow.sound()}\")\n",
        "print(f\"Sheep says: {sheep.sound()}\")\n"
      ],
      "metadata": {
        "colab": {
          "base_uri": "https://localhost:8080/"
        },
        "id": "cZClVHnJs2ev",
        "outputId": "55f7fafa-14f4-4730-ca36-d874c7a94db5"
      },
      "execution_count": 20,
      "outputs": [
        {
          "output_type": "stream",
          "name": "stdout",
          "text": [
            "Cow says: Moo\n",
            "Sheep says: Baa\n"
          ]
        }
      ]
    },
    {
      "cell_type": "code",
      "source": [
        "#17. Create a class Book with attributes title, author, and year_published. Add a method get_book_info() that returns a formatted string with the book's details.\n",
        "class Book:\n",
        "    def __init__(self, title, author, year_published):\n",
        "        self.title = title\n",
        "        self.author = author\n",
        "        self.year_published = year_published\n",
        "\n",
        "    # Method to return book information\n",
        "    def get_book_info(self):\n",
        "        return f\"\\\"{self.title}\\\" by {self.author} (Published in {self.year_published})\"\n",
        "\n",
        "# Example usage\n",
        "book1 = Book(\"The Alchemist\", \"Paulo Coelho\", 1988)\n",
        "print(book1.get_book_info())\n",
        "\n"
      ],
      "metadata": {
        "colab": {
          "base_uri": "https://localhost:8080/"
        },
        "id": "529kwXKUtLHR",
        "outputId": "c75a8a48-3435-4a39-c2f5-596eeaad0089"
      },
      "execution_count": 21,
      "outputs": [
        {
          "output_type": "stream",
          "name": "stdout",
          "text": [
            "\"The Alchemist\" by Paulo Coelho (Published in 1988)\n"
          ]
        }
      ]
    },
    {
      "cell_type": "code",
      "source": [
        "#18. Create a class House with attributes address and price. Create a derived class Mansion that adds an attribute number_of_rooms.\n",
        "# Base class\n",
        "class House:\n",
        "    def __init__(self, address, price):\n",
        "        self.address = address\n",
        "        self.price = price\n",
        "\n",
        "    def get_info(self):\n",
        "        return f\"Address: {self.address}, Price: ₹{self.price}\"\n",
        "\n",
        "# Derived class\n",
        "class Mansion(House):\n",
        "    def __init__(self, address, price, number_of_rooms):\n",
        "        super().__init__(address, price)  # Call constructor of House\n",
        "        self.number_of_rooms = number_of_rooms\n",
        "\n",
        "    def get_info(self):\n",
        "        return f\"{super().get_info()}, Number of Rooms: {self.number_of_rooms}\"\n",
        "\n",
        "# Example usage\n",
        "mansion1 = Mansion(\"123 Dream Estate, Noida\", 50000000, 10)\n",
        "print(mansion1.get_info())\n",
        "\n"
      ],
      "metadata": {
        "colab": {
          "base_uri": "https://localhost:8080/"
        },
        "id": "Tjis9Pw5tXVp",
        "outputId": "89cfb51c-fc09-4c51-d5bf-48105b96ed66"
      },
      "execution_count": 24,
      "outputs": [
        {
          "output_type": "stream",
          "name": "stdout",
          "text": [
            "Address: 123 Dream Estate, Noida, Price: ₹50000000, Number of Rooms: 10\n"
          ]
        }
      ]
    },
    {
      "cell_type": "code",
      "source": [],
      "metadata": {
        "id": "wUcRfK5ctsUa"
      },
      "execution_count": null,
      "outputs": []
    }
  ]
}